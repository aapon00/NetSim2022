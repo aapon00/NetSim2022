{
 "cells": [
  {
   "cell_type": "code",
   "execution_count": 61,
   "metadata": {},
   "outputs": [],
   "source": [
    "import pandas as pd\n",
    "import matplotlib.pyplot as plt\n",
    "import struct\n",
    "import socket\n",
    "\n",
    "from pcap.pcap_util import PcapReader\n",
    "\n",
    "class Reader:\n",
    "    def __init__(self, fn, limit=None):\n",
    "        self.pcap = PcapReader(fn)\n",
    "        self.limit = limit\n",
    "        self.n_read = 0\n",
    "    def close(self):\n",
    "        self.pcap.close()\n",
    "    def __iter__(self):\n",
    "        return self\n",
    "    def __next__(self):\n",
    "        try:\n",
    "            if self.limit and self.n_read == self.limit:\n",
    "                raise StopIteration\n",
    "\n",
    "            pkt = next(self.pcap)\n",
    "        except:\n",
    "            self.close()\n",
    "            raise\n",
    "\n",
    "#        pkt.time = pkt.time - 1547730000\n",
    "        self.n_read += 1\n",
    "        return pkt\n",
    "\n",
    "def read_pcaps(limit=None):\n",
    "    a_reader = Reader('data/pcap/a.tcp.nano.pcap', limit=limit)\n",
    "    b_reader = Reader('data/pcap/b.tcp.nano.cut.pcap', limit=limit)\n",
    "    return a_reader, b_reader\n",
    "\n",
    "TCP_FLAGS = {\"F\":0x1, \"S\":0x2, \"R\":0x4, \"P\":0x8,\n",
    "\t\t\t  \"A\":0x10, \"U\":0x20, \"E\":0x40, \"C\":0x80,\n",
    "\t\t\t  0x1:\"F\", 0x2:\"S\", 0x4:\"R\", 0x8:\"P\",\n",
    "\t\t\t  0x10:\"A\", 0x20:\"U\", 0x40:\"E\", 0x80:\"C\"}\n",
    "\n",
    "syn_flags = TCP_FLAGS['S']\n",
    "synack_flags = TCP_FLAGS['S'] | TCP_FLAGS['A']\n",
    "ack_flags = TCP_FLAGS['A']\n",
    "\n",
    "is_syn = lambda p: p['TCP'].flags == syn_flags\n",
    "is_synack = lambda p: p['TCP'].flags == synack_flags\n",
    "is_ack = lambda p: p['TCP'].flags == ack_flags\n",
    "\n",
    "session_id = lambda p: ((p['IP'].src, p['TCP'].sport), (p['IP'].dst, p['TCP'].dport))"
   ]
  },
  {
   "cell_type": "markdown",
   "metadata": {},
   "source": []
  },
  {
   "cell_type": "code",
   "execution_count": 59,
   "metadata": {},
   "outputs": [],
   "source": [
    "def handshake_times(a, b):\n",
    "    sessions = {}\n",
    "\n",
    "    for pkt in a:\n",
    "        if 'IP' not in pkt or 'TCP' not in pkt:\n",
    "            continue\n",
    "\n",
    "        tcp = pkt['TCP']\n",
    "\n",
    "        if is_syn(pkt):\n",
    "            s = ((pkt['IP'].src, pkt['TCP'].sport), (pkt['IP'].dst, pkt['TCP'].dport), pkt['TCP'].seq)\n",
    "\n",
    "            if s not in sessions:\n",
    "                sessions[s] = [(float(pkt.time), tcp.seq, tcp.ack), None, None]\n",
    "\n",
    "        elif is_ack(pkt):\n",
    "            s = ((pkt['IP'].src, pkt['TCP'].sport), (pkt['IP'].dst, pkt['TCP'].dport), pkt['TCP'].seq - 1)\n",
    "            if s in sessions:\n",
    "                if sessions[s][2] is not None:\n",
    "#                    print('wtf')\n",
    "                    del sessions[s]\n",
    "                    continue\n",
    "                sessions[s][2] = (float(pkt.time), tcp.seq, tcp.ack)\n",
    "\n",
    "    for pkt in b:\n",
    "        if 'IP' not in pkt or 'TCP' not in pkt or not is_synack(pkt):\n",
    "            continue\n",
    "\n",
    "        tcp = pkt['TCP']\n",
    "\n",
    "        s = ((pkt['IP'].dst, pkt['TCP'].dport), (pkt['IP'].src, pkt['TCP'].sport), pkt['TCP'].ack - 1)\n",
    "        if s in sessions:\n",
    "            if sessions[s][1] is not None:\n",
    "#                print('wtf2')\n",
    "                del sessions[s]\n",
    "                continue\n",
    "            sessions[s][1] = (float(pkt.time), tcp.seq, tcp.ack)\n",
    "\n",
    "    for s, times in sessions.items():\n",
    "        if times[1] is not None and times[2] is not None:\n",
    "#            print(times[0][1], times[0][2], times[1][1], times[1][2], times[2][1], times[2][2])\n",
    "            times = [t[0] for t in times]\n",
    "            if not (times[0] < times[1] < times[2]):\n",
    "#                print('wtf3')\n",
    "                continue\n",
    "            yield s, times[0], times[1], times[2]\n"
   ]
  },
  {
   "cell_type": "code",
   "execution_count": 62,
   "metadata": {},
   "outputs": [],
   "source": [
    "spny, nysp = read_pcaps()\n",
    "dfs_ab = pd.DataFrame(handshake_times(spny, nysp), columns=['session', 'syn', 'synack', 'ack'])"
   ]
  },
  {
   "cell_type": "code",
   "execution_count": 63,
   "metadata": {},
   "outputs": [],
   "source": [
    "spny, nysp = read_pcaps()\n",
    "dfs_ba = pd.DataFrame(handshake_times(nysp, spny), columns=['session', 'syn', 'synack', 'ack'])"
   ]
  },
  {
   "cell_type": "code",
   "execution_count": 64,
   "metadata": {},
   "outputs": [],
   "source": [
    "for df in [dfs_ab, dfs_ba]:\n",
    "    df['diff_1'] = (df.synack - df.syn).astype(float)\n",
    "    df['diff_2'] = (df.ack - df.synack).astype(float)"
   ]
  },
  {
   "cell_type": "code",
   "execution_count": 65,
   "metadata": {},
   "outputs": [
    {
     "data": {
      "image/png": "[encoded data removed]",
      "text/plain": [
       "<Figure size 640x480 with 1 Axes>"
      ]
     },
     "metadata": {},
     "output_type": "display_data"
    }
   ],
   "source": [
    "plt.scatter(dfs_ab.diff_1, dfs_ab.diff_2)\n",
    "#plt.hist(dfs_ab.diff_2, bins=300, color='b')\n",
    "plt.show()"
   ]
  },
  {
   "cell_type": "code",
   "execution_count": 45,
   "metadata": {},
   "outputs": [
    {
     "data": {
      "text/html": [
       "<div>\n",
       "<style scoped>\n",
       "    .dataframe tbody tr th:only-of-type {\n",
       "        vertical-align: middle;\n",
       "    }\n",
       "\n",
       "    .dataframe tbody tr th {\n",
       "        vertical-align: top;\n",
       "    }\n",
       "\n",
       "    .dataframe thead th {\n",
       "        text-align: right;\n",
       "    }\n",
       "</style>\n",
       "<table border=\"1\" class=\"dataframe\">\n",
       "  <thead>\n",
       "    <tr style=\"text-align: right;\">\n",
       "      <th></th>\n",
       "      <th>syn</th>\n",
       "      <th>synack</th>\n",
       "      <th>ack</th>\n",
       "      <th>diff_1</th>\n",
       "      <th>diff_2</th>\n",
       "    </tr>\n",
       "  </thead>\n",
       "  <tbody>\n",
       "    <tr>\n",
       "      <th>count</th>\n",
       "      <td>9.400000e+01</td>\n",
       "      <td>9.400000e+01</td>\n",
       "      <td>9.400000e+01</td>\n",
       "      <td>94.000000</td>\n",
       "      <td>94.000000</td>\n",
       "    </tr>\n",
       "    <tr>\n",
       "      <th>mean</th>\n",
       "      <td>1.547730e+09</td>\n",
       "      <td>1.547730e+09</td>\n",
       "      <td>1.547730e+09</td>\n",
       "      <td>0.109796</td>\n",
       "      <td>0.133617</td>\n",
       "    </tr>\n",
       "    <tr>\n",
       "      <th>std</th>\n",
       "      <td>1.102842e-01</td>\n",
       "      <td>1.102259e-01</td>\n",
       "      <td>9.573914e-02</td>\n",
       "      <td>0.004668</td>\n",
       "      <td>0.083619</td>\n",
       "    </tr>\n",
       "    <tr>\n",
       "      <th>min</th>\n",
       "      <td>1.547730e+09</td>\n",
       "      <td>1.547730e+09</td>\n",
       "      <td>1.547730e+09</td>\n",
       "      <td>0.108901</td>\n",
       "      <td>0.000164</td>\n",
       "    </tr>\n",
       "    <tr>\n",
       "      <th>25%</th>\n",
       "      <td>1.547730e+09</td>\n",
       "      <td>1.547730e+09</td>\n",
       "      <td>1.547730e+09</td>\n",
       "      <td>0.108914</td>\n",
       "      <td>0.087844</td>\n",
       "    </tr>\n",
       "    <tr>\n",
       "      <th>50%</th>\n",
       "      <td>1.547730e+09</td>\n",
       "      <td>1.547730e+09</td>\n",
       "      <td>1.547730e+09</td>\n",
       "      <td>0.108957</td>\n",
       "      <td>0.113451</td>\n",
       "    </tr>\n",
       "    <tr>\n",
       "      <th>75%</th>\n",
       "      <td>1.547730e+09</td>\n",
       "      <td>1.547730e+09</td>\n",
       "      <td>1.547730e+09</td>\n",
       "      <td>0.108971</td>\n",
       "      <td>0.204262</td>\n",
       "    </tr>\n",
       "    <tr>\n",
       "      <th>max</th>\n",
       "      <td>1.547730e+09</td>\n",
       "      <td>1.547730e+09</td>\n",
       "      <td>1.547730e+09</td>\n",
       "      <td>0.146881</td>\n",
       "      <td>0.327840</td>\n",
       "    </tr>\n",
       "  </tbody>\n",
       "</table>\n",
       "</div>"
      ],
      "text/plain": [
       "                syn        synack           ack     diff_1     diff_2\n",
       "count  9.400000e+01  9.400000e+01  9.400000e+01  94.000000  94.000000\n",
       "mean   1.547730e+09  1.547730e+09  1.547730e+09   0.109796   0.133617\n",
       "std    1.102842e-01  1.102259e-01  9.573914e-02   0.004668   0.083619\n",
       "min    1.547730e+09  1.547730e+09  1.547730e+09   0.108901   0.000164\n",
       "25%    1.547730e+09  1.547730e+09  1.547730e+09   0.108914   0.087844\n",
       "50%    1.547730e+09  1.547730e+09  1.547730e+09   0.108957   0.113451\n",
       "75%    1.547730e+09  1.547730e+09  1.547730e+09   0.108971   0.204262\n",
       "max    1.547730e+09  1.547730e+09  1.547730e+09   0.146881   0.327840"
      ]
     },
     "execution_count": 45,
     "metadata": {},
     "output_type": "execute_result"
    }
   ],
   "source": [
    "dfs_ab.describe()"
   ]
  },
  {
   "cell_type": "code",
   "execution_count": 80,
   "metadata": {},
   "outputs": [
    {
     "name": "stdout",
     "output_type": "stream",
     "text": [
      "100\n",
      "count    704.000000\n",
      "mean     108.946880\n",
      "std        0.030798\n",
      "min      108.897209\n",
      "25%      108.913124\n",
      "50%      108.954906\n",
      "75%      108.965874\n",
      "max      109.075308\n",
      "Name: diff_1, dtype: float64\n",
      "count    550.000000\n",
      "mean     108.930236\n",
      "std        0.028624\n",
      "min      108.895302\n",
      "25%      108.909845\n",
      "50%      108.917117\n",
      "75%      108.951092\n",
      "max      109.067202\n",
      "Name: diff_2, dtype: float64\n"
     ]
    },
    {
     "data": {
      "image/png": "[encoded data removed]",
      "text/plain": [
       "<Figure size 640x480 with 1 Axes>"
      ]
     },
     "metadata": {},
     "output_type": "display_data"
    }
   ],
   "source": [
    "mn = 108.85\n",
    "mx = 109.1\n",
    "bins = 100#round((mx - mn) * 1000)\n",
    "print(bins)\n",
    "x1 = dfs_ab.diff_1 * 1000\n",
    "x1 = x1[x1 > mn]\n",
    "x1 = x1[x1 < mx]\n",
    "x2 = dfs_ba.diff_2 * 1000\n",
    "x2 = x2[x2 > mn]\n",
    "x2 = x2[x2 < mx]\n",
    "print(x1.describe())\n",
    "print(x2.describe())\n",
    "\n",
    "plt.hist([x1, x2], bins=bins, label=['sp-ny', 'ny-sp'])\n",
    "plt.show()"
   ]
  },
  {
   "cell_type": "code",
   "execution_count": 7,
   "metadata": {},
   "outputs": [
    {
     "ename": "AttributeError",
     "evalue": "'DataFrame' object has no attribute 'diff_3'",
     "output_type": "error",
     "traceback": [
      "\u001b[0;31m---------------------------------------------------------------------------\u001b[0m",
      "\u001b[0;31mAttributeError\u001b[0m                            Traceback (most recent call last)",
      "\u001b[1;32m/Users/qte2333/repos/netsim/dual_caida.ipynb Cell 11\u001b[0m in \u001b[0;36m<cell line: 1>\u001b[0;34m()\u001b[0m\n\u001b[1;32m      <a href='vscode-notebook-cell:/Users/qte2333/repos/netsim/dual_caida.ipynb#X12sZmlsZQ%3D%3D?line=0'>1</a>\u001b[0m \u001b[39mfor\u001b[39;00m df \u001b[39min\u001b[39;00m [dfs_ab, dfs_ba]:\n\u001b[1;32m      <a href='vscode-notebook-cell:/Users/qte2333/repos/netsim/dual_caida.ipynb#X12sZmlsZQ%3D%3D?line=1'>2</a>\u001b[0m \u001b[39m#    plt.hist(df.where(df['diff'] < 0.3).where(df['diff'] > -0.5)['diff']*1000, bins=300)\u001b[39;00m\n\u001b[0;32m----> <a href='vscode-notebook-cell:/Users/qte2333/repos/netsim/dual_caida.ipynb#X12sZmlsZQ%3D%3D?line=2'>3</a>\u001b[0m     plt\u001b[39m.\u001b[39mhist(df\u001b[39m.\u001b[39mwhere(df\u001b[39m.\u001b[39;49mdiff_3 \u001b[39m<\u001b[39m \u001b[39m0.3\u001b[39m)\u001b[39m.\u001b[39mwhere(df\u001b[39m.\u001b[39mdiff_3 \u001b[39m>\u001b[39m \u001b[39m-\u001b[39m\u001b[39m0.3\u001b[39m)\u001b[39m.\u001b[39mdiff_3, bins\u001b[39m=\u001b[39m\u001b[39m30\u001b[39m)\n\u001b[1;32m      <a href='vscode-notebook-cell:/Users/qte2333/repos/netsim/dual_caida.ipynb#X12sZmlsZQ%3D%3D?line=3'>4</a>\u001b[0m plt\u001b[39m.\u001b[39mshow()\n",
      "File \u001b[0;32m~/repos/netsim/.venv/lib/python3.10/site-packages/pandas/core/generic.py:5575\u001b[0m, in \u001b[0;36mNDFrame.__getattr__\u001b[0;34m(self, name)\u001b[0m\n\u001b[1;32m   5568\u001b[0m \u001b[39mif\u001b[39;00m (\n\u001b[1;32m   5569\u001b[0m     name \u001b[39mnot\u001b[39;00m \u001b[39min\u001b[39;00m \u001b[39mself\u001b[39m\u001b[39m.\u001b[39m_internal_names_set\n\u001b[1;32m   5570\u001b[0m     \u001b[39mand\u001b[39;00m name \u001b[39mnot\u001b[39;00m \u001b[39min\u001b[39;00m \u001b[39mself\u001b[39m\u001b[39m.\u001b[39m_metadata\n\u001b[1;32m   5571\u001b[0m     \u001b[39mand\u001b[39;00m name \u001b[39mnot\u001b[39;00m \u001b[39min\u001b[39;00m \u001b[39mself\u001b[39m\u001b[39m.\u001b[39m_accessors\n\u001b[1;32m   5572\u001b[0m     \u001b[39mand\u001b[39;00m \u001b[39mself\u001b[39m\u001b[39m.\u001b[39m_info_axis\u001b[39m.\u001b[39m_can_hold_identifiers_and_holds_name(name)\n\u001b[1;32m   5573\u001b[0m ):\n\u001b[1;32m   5574\u001b[0m     \u001b[39mreturn\u001b[39;00m \u001b[39mself\u001b[39m[name]\n\u001b[0;32m-> 5575\u001b[0m \u001b[39mreturn\u001b[39;00m \u001b[39mobject\u001b[39;49m\u001b[39m.\u001b[39;49m\u001b[39m__getattribute__\u001b[39;49m(\u001b[39mself\u001b[39;49m, name)\n",
      "\u001b[0;31mAttributeError\u001b[0m: 'DataFrame' object has no attribute 'diff_3'"
     ]
    }
   ],
   "source": [
    "\n",
    "\n",
    "for df in [dfs_ab, dfs_ba]:\n",
    "#    plt.hist(df.where(df['diff'] < 0.3).where(df['diff'] > -0.5)['diff']*1000, bins=300)\n",
    "    plt.hist(df.where(df.diff_3 < 0.3).where(df.diff_3 > -0.3).diff_3, bins=30)\n",
    "plt.show()"
   ]
  }
 ],
 "metadata": {
  "kernelspec": {
   "display_name": "Python 3.10.2 ('.venv': venv)",
   "language": "python",
   "name": "python3"
  },
  "language_info": {
   "codemirror_mode": {
    "name": "ipython",
    "version": 3
   },
   "file_extension": ".py",
   "mimetype": "text/x-python",
   "name": "python",
   "nbconvert_exporter": "python",
   "pygments_lexer": "ipython3",
   "version": "3.10.6"
  },
  "vscode": {
   "interpreter": {
    "hash": "50801844ba7948b827654081bf15086ac5e795b40f13b0e3026473b82d2f3dfd"
   }
  }
 },
 "nbformat": 4,
 "nbformat_minor": 4
}
